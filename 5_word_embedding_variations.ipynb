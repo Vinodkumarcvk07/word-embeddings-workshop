{
 "cells": [
  {
   "cell_type": "markdown",
   "metadata": {
    "slideshow": {
     "slide_type": "slide"
    }
   },
   "source": [
    "Word Embedding Variations\n",
    "-----"
   ]
  },
  {
   "cell_type": "markdown",
   "metadata": {
    "slideshow": {
     "slide_type": "slide"
    }
   },
   "source": [
    "How do we embed words that have multiple meanings?\n",
    "-------\n",
    "\n",
    "\"bank\" is related to money or a river\n",
    "\n",
    "\"burns\" is a person or a verb"
   ]
  },
  {
   "cell_type": "markdown",
   "metadata": {
    "slideshow": {
     "slide_type": "slide"
    }
   },
   "source": [
    "The straight-forward solution is to make two tokens:    $burns_{PERSON}$ and $burns_{VERB}$.\n",
    "\n",
    "Each one will be tagged with part-of-speech (POS)."
   ]
  },
  {
   "cell_type": "markdown",
   "metadata": {
    "slideshow": {
     "slide_type": "fragment"
    }
   },
   "source": [
    "Let's play with a demo - https://demos.explosion.ai/sense2vec/"
   ]
  },
  {
   "cell_type": "markdown",
   "metadata": {
    "slideshow": {
     "slide_type": "slide"
    }
   },
   "source": [
    "NLP Protip\n",
    "------\n",
    "\n",
    "keep everything lower case but at special character\n",
    "\n",
    "burns is the verb\n",
    "\n",
    "^burns is the person"
   ]
  },
  {
   "cell_type": "markdown",
   "metadata": {
    "slideshow": {
     "slide_type": "slide"
    }
   },
   "source": [
    "By the end of this session, you should be able to:\n",
    "----\n",
    "\n",
    "- Describe word embedding extensions:  \n",
    "    - Dependency-Based Word Embeddings\n",
    "    - Machine Translation\n",
    "- Explain how word2vec can be extended to paragraphs and documents (doc2vec)\n",
    "- Identify applications for cutting-edge algorithms of Word Mover Distance and Thought Vectors\n",
    "- Understand how to vectorize __everything__"
   ]
  },
  {
   "cell_type": "markdown",
   "metadata": {
    "slideshow": {
     "slide_type": "slide"
    }
   },
   "source": [
    "Check for understanding\n",
    "---\n",
    "\n",
    "What is goal of word embeddings in Plain English?"
   ]
  },
  {
   "cell_type": "markdown",
   "metadata": {
    "slideshow": {
     "slide_type": "fragment"
    }
   },
   "source": [
    "Create a dense vector representation of words that models semantic meaning based on context.\n",
    "\n",
    "Model the latent structure of language using literal string location.\n"
   ]
  },
  {
   "cell_type": "markdown",
   "metadata": {
    "collapsed": true,
    "slideshow": {
     "slide_type": "slide"
    }
   },
   "source": [
    "Dependency-Based Word Embeddings\n",
    "---\n",
    "\n",
    "<center><img src=\"images/parse.png\" width=\"700\"/></center>\n",
    "\n",
    "An alternative to the bag-of-words approach is to derive contexts based on the syntactic relations the word participates in.\n",
    "\n",
    "Extend beyond skip-gram window, \"weighted\" by syntax (not just token distance)."
   ]
  },
  {
   "cell_type": "markdown",
   "metadata": {
    "slideshow": {
     "slide_type": "slide"
    }
   },
   "source": [
    "Results\n",
    "----\n",
    "\n",
    "<center><img src=\"images/dependency_results.png\" width=\"700\"/></center>"
   ]
  },
  {
   "cell_type": "markdown",
   "metadata": {
    "slideshow": {
     "slide_type": "fragment"
    }
   },
   "source": [
    "__How are Bag-of-words (BoW) and depdency (deps) different?___\n",
    "\n",
    "BOW generates counties or cities in Florida (meronyms: part of the whole).\n",
    "\n",
    "Dependency generates other states \"brothers and sisters\" "
   ]
  },
  {
   "cell_type": "markdown",
   "metadata": {
    "slideshow": {
     "slide_type": "skip"
    }
   },
   "source": [
    "(cohyponyms: words that shares hyoponyms, belong to the same hypernym)\n",
    "\n",
    "[Source](http://www.aclweb.org/anthology/P14-2050.pdf)"
   ]
  },
  {
   "cell_type": "markdown",
   "metadata": {
    "slideshow": {
     "slide_type": "slide"
    }
   },
   "source": [
    "Machine Translation\n",
    "---\n",
    "\n",
    "<center><img src=\"images/machine_translation.png\" width=\"700\"/></center>\n",
    "\n",
    "Language translations are linear transformation: rotations and scalings of the vector space.  "
   ]
  },
  {
   "cell_type": "markdown",
   "metadata": {
    "slideshow": {
     "slide_type": "slide"
    }
   },
   "source": [
    "How are Machine Translations learned?\n",
    "----\n",
    "\n",
    "The transform matrix can be learned by bootstrapping from a small sample (manually labeled), then extend to entire language.\n",
    "\n",
    "Steps:\n",
    "\n",
    "1. Create a word embedding in both languages\n",
    "2. Manually specify pairs (typically - simple concrete nouns)\n",
    "3. Find the translation matrix\n",
    "4. Apply translation matrix across entire language (including idiomatic)"
   ]
  },
  {
   "cell_type": "markdown",
   "metadata": {
    "slideshow": {
     "slide_type": "slide"
    }
   },
   "source": [
    "Doc2Vec, the most powerful extension of word2vec\n",
    "---\n",
    "\n",
    "<center><img src=\"http://img5.picload.org/image/paagccr/doc2vec.png\" width=\"700\"/></center>"
   ]
  },
  {
   "cell_type": "markdown",
   "metadata": {
    "slideshow": {
     "slide_type": "slide"
    }
   },
   "source": [
    "Naive doc2vec\n",
    "-----\n",
    "\n",
    "<center><img src=\"images/vectors.png\" width=\"300\"/></center>\n",
    "\n"
   ]
  },
  {
   "cell_type": "markdown",
   "metadata": {
    "slideshow": {
     "slide_type": "slide"
    }
   },
   "source": [
    "<center><img src=\"images/naive_doc.png\" width=\"700\"/></center>"
   ]
  },
  {
   "cell_type": "markdown",
   "metadata": {
    "slideshow": {
     "slide_type": "slide"
    }
   },
   "source": [
    "Doc2vec (aka paragraph2vec or sentence embeddings) \n",
    "-----\n",
    "\n",
    "Modifies the word2vec algorithm to larger blocks of text, such as sentences, paragraphs or entire documents. \n",
    "\n",
    "<center><img src=\"images/overview_word.png\" width=\"700\"/></center>\n"
   ]
  },
  {
   "cell_type": "markdown",
   "metadata": {
    "slideshow": {
     "slide_type": "slide"
    }
   },
   "source": [
    "<center><img src=\"images/overview_paragraph.png\" width=\"700\"/></center>\n",
    "\n",
    "Every paragraph is mapped to a unique vector.\n",
    "\n",
    "Both paragraph vector and word vectors are use to predict the next word in a context. \n",
    "\n",
    "Each additional context does not have be a fixed length (because it is just a pointer!)"
   ]
  },
  {
   "cell_type": "markdown",
   "metadata": {
    "slideshow": {
     "slide_type": "skip"
    }
   },
   "source": [
    "\n",
    ", represented by a column in matrix D and every word is also mapped to a unique vector, represented by a column in matrix W . \n",
    "Additional parameters but the updates are sparse thus still efficient."
   ]
  },
  {
   "cell_type": "markdown",
   "metadata": {
    "slideshow": {
     "slide_type": "slide"
    }
   },
   "source": [
    "We have a MAJOR problem: TOO MANY CRAFT BEERS! 🍻\n",
    "----\n",
    "\n",
    "<center><img src=\"https://therooster.com/sites/default/files/styles/hero/public/beertaps-rooster.png?itok=gKvs_C7H\" width=\"700\"/></center>"
   ]
  },
  {
   "cell_type": "markdown",
   "metadata": {
    "slideshow": {
     "slide_type": "slide"
    }
   },
   "source": [
    "Solution: Descri.beer using doc2vec\n",
    "---\n",
    "\n",
    "<img src=\"https://timebusinessblog.files.wordpress.com/2013/03/85632599-e1364519588629.jpg?w=360&h=240&crop=1\" style=\"width: 400px;\"/>"
   ]
  },
  {
   "cell_type": "markdown",
   "metadata": {
    "slideshow": {
     "slide_type": "slide"
    }
   },
   "source": [
    "How do to make sense of 1.6M beer reviews?\n",
    "-----\n",
    "\n",
    "<center><img src=\"images/beer_space.jpg\" width=\"700\"/></center>\n",
    "\n"
   ]
  },
  {
   "cell_type": "markdown",
   "metadata": {
    "slideshow": {
     "slide_type": "skip"
    }
   },
   "source": [
    "[Demo](http://descri.beer/)  \n",
    "[Source](http://www.slideshare.net/BenEverson/describeer-demo)"
   ]
  },
  {
   "cell_type": "markdown",
   "metadata": {
    "slideshow": {
     "slide_type": "slide"
    }
   },
   "source": [
    "Concept level document similarity\n",
    "---\n",
    "\n",
    "> The Sicilian gelato was extremely rich.\n",
    "\n",
    "vs.\n",
    "\n",
    "> The Italian ice-cream was very velvety.\n",
    "\n",
    "The statements reference the __same__ idea but share __no__ words."
   ]
  },
  {
   "cell_type": "markdown",
   "metadata": {
    "slideshow": {
     "slide_type": "slide"
    }
   },
   "source": [
    "Word Mover’s Distance (WMD)\n",
    "----\n",
    "\n",
    "<center><img src=\"images/wmd_illustration_1.png\" width=\"700\"/></center>\n",
    "\n",
    "Represent text documents as a weighted point cloud of embedded words. \n",
    "\n",
    "The distance between two text documents A and B is the minimum cumulative distance that words from document A need to travel to match exactly the point cloud of document B."
   ]
  },
  {
   "cell_type": "markdown",
   "metadata": {
    "slideshow": {
     "slide_type": "slide"
    }
   },
   "source": [
    "Earth mover’s distance metric (EMD)\n",
    "-----\n",
    "\n",
    "Word Mover’s Distance (WMD) is a special case of the [earth mover’s distance metric (EMD)](https://en.wikipedia.org/wiki/Earth_mover%27s_distance)\n",
    "\n",
    "EMD is a method to evaluate __dissimilarity__ between two multi-dimensional distributions in a feature space. The EMD 'lifts' this distance from individual features to full distributions."
   ]
  },
  {
   "cell_type": "markdown",
   "metadata": {
    "slideshow": {
     "slide_type": "skip"
    }
   },
   "source": [
    "[Deep dive on EMD](http://homepages.inf.ed.ac.uk/rbf/CVonline/LOCAL_COPIES/RUBNER/emd.htm)"
   ]
  },
  {
   "cell_type": "markdown",
   "metadata": {
    "slideshow": {
     "slide_type": "slide"
    }
   },
   "source": [
    "Word Mover Distance Example\n",
    "----\n",
    "\n",
    "<center><img src=\"images/WMD_worked_example.png\" width=\"700\"/></center>"
   ]
  },
  {
   "cell_type": "markdown",
   "metadata": {
    "slideshow": {
     "slide_type": "slide"
    }
   },
   "source": [
    "Word Mover Distance Example\n",
    "----\n",
    "\n",
    "State-of-the-art k-nearest neighbors (kNN) classification accuracy but slowest metric to compute.\n",
    "\n",
    "(Another example of speed / accuracy trade-off)"
   ]
  },
  {
   "cell_type": "markdown",
   "metadata": {
    "slideshow": {
     "slide_type": "skip"
    }
   },
   "source": [
    "[Source: From Word Embeddings To Document Distances](http://jmlr.org/proceedings/papers/v37/kusnerb15.pdf)\n",
    "\n",
    "[Application to Data Science](http://tech.opentable.com/2015/08/11/navigating-themes-in-restaurant-reviews-with-word-movers-distance/)"
   ]
  },
  {
   "cell_type": "markdown",
   "metadata": {
    "slideshow": {
     "slide_type": "slide"
    }
   },
   "source": [
    "everthing2vec\n",
    "----\n",
    "\n",
    "<center><img src=\"images/all_the_things.jpg\" width=\"700\"/></center>"
   ]
  },
  {
   "cell_type": "markdown",
   "metadata": {
    "slideshow": {
     "slide_type": "slide"
    }
   },
   "source": [
    "Notable Vectorizations\n",
    "-----\n",
    "\n",
    "| Name | Embedding  | \n",
    "|:-------:|:------:| \n",
    "| [Char2Vec](http://arxiv.org/abs/1508.06615) | Character |\n",
    "| [Word2Vec](https://papers.nips.cc/paper/5021-distributed-representations-of-words-and-phrases-and-their-compositionality.pdf) | Word | \n",
    "| [GloVe](http://www-nlp.stanford.edu/pubs/glove.pdf) | Word | \n",
    "| [Doc2Vec](https://cs.stanford.edu/~quocle/paragraph_vector.pdf) | Sections of text |\n",
    "| [Gene2Vec](https://davidcox143.github.io/Gene2vec/) | Functional unit of heredity |\n",
    "| [Item2Vec](https://arxiv.org/abs/1603.04259) | Things to buy |\n",
    "| [Image2Vec](https://arxiv.org/abs/1507.08818) | Image |\n",
    "| [Video2Vec](https://www.dropbox.com/s/m99k5md8461xi0s/ICIP_Paper_Revised.pdf) | Video |\n"
   ]
  },
  {
   "cell_type": "markdown",
   "metadata": {
    "slideshow": {
     "slide_type": "skip"
    }
   },
   "source": [
    "[Source](http://datascienceassn.org/content/table-xx2vec-algorithms)"
   ]
  },
  {
   "cell_type": "markdown",
   "metadata": {
    "collapsed": true,
    "slideshow": {
     "slide_type": "slide"
    }
   },
   "source": [
    "Emjois have meaning based on order and context\n",
    "------\n",
    "<center><img src=\"images/emjois.png\" width=\"700\"/></center>"
   ]
  },
  {
   "cell_type": "markdown",
   "metadata": {
    "collapsed": true,
    "slideshow": {
     "slide_type": "slide"
    }
   },
   "source": [
    "emjoi2vec\n",
    "----\n",
    "\n",
    "<center><img src=\"https://s3.amazonaws.com/instagram-static/engineering-blog/emoji-hashtags/tsne_map_tight.png\" width=\"700\"/></center>"
   ]
  },
  {
   "cell_type": "markdown",
   "metadata": {
    "slideshow": {
     "slide_type": "slide"
    }
   },
   "source": [
    "What would be a business use for emjoi2vec?\n",
    "------"
   ]
  },
  {
   "cell_type": "markdown",
   "metadata": {
    "slideshow": {
     "slide_type": "fragment"
    }
   },
   "source": [
    "Trust & Safety"
   ]
  },
  {
   "cell_type": "markdown",
   "metadata": {
    "slideshow": {
     "slide_type": "skip"
    }
   },
   "source": [
    "[Image](images/https://s3.amazonaws.com/instagram-static/engineering-blog/emoji-hashtags/tsne_map_tight.png)  \n",
    "[Source](http://instagram-engineering.tumblr.com/post/117889701472/emojineering-part-1-machine-learning-for-emoji)"
   ]
  },
  {
   "cell_type": "markdown",
   "metadata": {
    "slideshow": {
     "slide_type": "slide"
    }
   },
   "source": [
    "Embed Everything in the Space\n",
    "----"
   ]
  },
  {
   "cell_type": "markdown",
   "metadata": {
    "slideshow": {
     "slide_type": "slide"
    }
   },
   "source": [
    "<center><img src=\"images/airbnb.png\" width=\"700\"/></center>"
   ]
  },
  {
   "cell_type": "markdown",
   "metadata": {
    "slideshow": {
     "slide_type": "slide"
    }
   },
   "source": [
    "Thought Vectors\n",
    "---\n",
    "\n",
    "<img src=\"https://cdn-images-1.medium.com/max/2000/1*KYLrhDHqAAdQaJiN1G4ytA.jpeg\" style=\"width: 400px;\"/>\n",
    "\n",
    "Geoffrey Hinton's, from Google, \"Top Secret\" new algorithm.\n",
    "\n",
    "Instead of embedding words or documents in vector space, embed thoughts in vector space. Their features will represent how each thought relates to other thoughts. "
   ]
  },
  {
   "cell_type": "markdown",
   "metadata": {
    "slideshow": {
     "slide_type": "slide"
    }
   },
   "source": [
    "When Google farts 💨, the rest of the world 💩\n",
    "------\n",
    "\n",
    "It hasn't been released so it is mostly speculation. Keep your eye out for it.\n",
    "\n",
    "[Thought2vec teaser](https://wtvox.com/robotics/google-is-working-on-a-new-algorithm-thought-vectors)  \n",
    "[General introduction](http://deeplearning4j.org/thoughtvectors.html)<br>\n",
    "[Skip-Thought Vectors paper](https://papers.nips.cc/paper/5950-skip-thought-vectors.pdf)"
   ]
  },
  {
   "cell_type": "markdown",
   "metadata": {
    "slideshow": {
     "slide_type": "slide"
    }
   },
   "source": [
    "Summary\n",
    "---\n",
    "\n",
    "- Word2vec is another perspective on Machine Translation, rotation and translation of embedded space.\n",
    "- Other semantic meanings can be captured by using dependency parsing as context.\n",
    "- Longer pieces of text can also be embedded into the same space as words (i.e., doc2vec).\n",
    "- Given the properties of word2vec (e.g., large input, straightforward training, and vector output), it can be applied to a variety of problems.\n",
    "    - emojis\n",
    "    - thoughts\n",
    "    - `<insert your idea here>`"
   ]
  },
  {
   "cell_type": "markdown",
   "metadata": {
    "slideshow": {
     "slide_type": "slide"
    }
   },
   "source": [
    "<br>\n",
    "<br> \n",
    "<br>\n",
    "\n",
    "----"
   ]
  }
 ],
 "metadata": {
  "celltoolbar": "Slideshow",
  "kernelspec": {
   "display_name": "Python 3",
   "language": "python",
   "name": "python3"
  },
  "language_info": {
   "codemirror_mode": {
    "name": "ipython",
    "version": 3
   },
   "file_extension": ".py",
   "mimetype": "text/x-python",
   "name": "python",
   "nbconvert_exporter": "python",
   "pygments_lexer": "ipython3",
   "version": "3.6.4"
  }
 },
 "nbformat": 4,
 "nbformat_minor": 1
}
