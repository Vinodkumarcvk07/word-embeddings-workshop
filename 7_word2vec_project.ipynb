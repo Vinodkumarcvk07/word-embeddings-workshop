{
 "cells": [
  {
   "cell_type": "markdown",
   "metadata": {},
   "source": [
    "Bag of Words Meets Bags of Popcorn\n",
    "-----\n",
    "\n",
    "<center><img src=\"images/bag_of_popcorn.png\" width=\"700\"/></center>\n",
    "\n",
    "Use word2vec to model movie reviews.\n",
    "\n",
    "Based on [Bag of Words Meets Bags of Popcorn](https://www.kaggle.com/c/word2vec-nlp-tutorial)"
   ]
  },
  {
   "cell_type": "markdown",
   "metadata": {},
   "source": [
    "---\n",
    "By the end of this exercise, you should be able to\n",
    "---\n",
    "\n",
    "1. Apply word2vec to a dataset\n",
    "2. Make comparisons between models\n",
    "3. Enter a Kaggle contest"
   ]
  },
  {
   "cell_type": "markdown",
   "metadata": {},
   "source": [
    "---\n",
    "Overview\n",
    "---\n",
    "\n",
    "1. Skim [introduction section](https://www.kaggle.com/c/word2vec-nlp-tutorial/details/part-1-for-beginners-bag-of-words) and [word vector](https://www.kaggle.com/c/word2vec-nlp-tutorial/details/part-2-word-vectors)\n",
    "1. Work through [more fun with word vectors](https://www.kaggle.com/c/word2vec-nlp-tutorial/details/part-3-more-fun-with-word-vectors)\n",
    "1. Create models with the given architecture\n",
    "    1. Start with `bag_of_words.py` to run a Random Forest\n",
    "    1. Submit your model [here](https://www.kaggle.com/c/word2vec-nlp-tutorial/submissions/) to get a score\n",
    "1. Tune (aka, hyperparamter search)\n",
    "1. Submit your best score to Slack"
   ]
  },
  {
   "cell_type": "markdown",
   "metadata": {},
   "source": [
    "---\n",
    "How to evaluate and submit your model\n",
    "---\n",
    "\n",
    "[Evaluation](https://www.kaggle.com/c/word2vec-nlp-tutorial/details/evaluation)"
   ]
  },
  {
   "cell_type": "markdown",
   "metadata": {
    "collapsed": true
   },
   "source": [
    "Hints:\n",
    "---\n",
    "\n",
    "- Competition is closed. You won't be able to enter the Kaggle competition but your solutions can be scored.\n",
    "- Start with a very basic model then try to improve:\n",
    "    1. Random Forest with bag of words\n",
    "    2. See if word2vec helps\n",
    "- `word2vec_average_vectors.py` takes a while to run.\n",
    "- `word2vec_bag_of_centroids.py` takes a looooong time 😴 to run.\n",
    "- While your models are running brainstorm ways of making them better!\n",
    "- [Compare your process and results to Standford students](https://cs224d.stanford.edu/reports/SadeghianAmir.pdf)"
   ]
  },
  {
   "cell_type": "markdown",
   "metadata": {},
   "source": [
    "<br>\n",
    "<br> \n",
    "<br>\n",
    "\n",
    "----"
   ]
  }
 ],
 "metadata": {
  "kernelspec": {
   "display_name": "Python 3",
   "language": "python",
   "name": "python3"
  },
  "language_info": {
   "codemirror_mode": {
    "name": "ipython",
    "version": 3
   },
   "file_extension": ".py",
   "mimetype": "text/x-python",
   "name": "python",
   "nbconvert_exporter": "python",
   "pygments_lexer": "ipython3",
   "version": "3.6.0"
  }
 },
 "nbformat": 4,
 "nbformat_minor": 1
}
